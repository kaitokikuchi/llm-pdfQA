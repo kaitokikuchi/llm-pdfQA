{
 "cells": [
  {
   "cell_type": "code",
   "execution_count": 1,
   "metadata": {},
   "outputs": [],
   "source": [
    "from langchain_community.document_loaders import PyPDFLoader\n",
    "import os\n",
    "import getpass\n",
    "from langchain_community.vectorstores import FAISS\n",
    "from langchain_openai import OpenAIEmbeddings\n",
    "from langchain.embeddings import CacheBackedEmbeddings\n",
    "from langchain.storage import LocalFileStore\n",
    "from langchain.embeddings import HuggingFaceEmbeddings\n",
    "from langchain.chains import RetrievalQA\n",
    "from langchain_openai import OpenAI\n",
    "from langchain_community.document_loaders import OnlinePDFLoader\n",
    "from langchain_community.document_loaders import UnstructuredPDFLoader\n",
    "from langchain_community.document_loaders import PyMuPDFLoader\n",
    "openai_api_key = os.getenv('OPENAI_API_KEY', 'YourAPIKeyIfNotSet')\n",
    "\n",
    "os.environ['OPENAI_API_KEY'] = getpass.getpass('OpenAI API Key:')\n",
    "\n"
   ]
  },
  {
   "cell_type": "code",
   "execution_count": 6,
   "metadata": {},
   "outputs": [],
   "source": [
    "\n"
   ]
  },
  {
   "cell_type": "code",
   "execution_count": 9,
   "metadata": {},
   "outputs": [
    {
     "ename": "ImportError",
     "evalue": "`PyMuPDF` package not found, please install it with `pip install pymupdf`",
     "output_type": "error",
     "traceback": [
      "\u001b[0;31m---------------------------------------------------------------------------\u001b[0m",
      "\u001b[0;31mModuleNotFoundError\u001b[0m                       Traceback (most recent call last)",
      "File \u001b[0;32m~/llm-pdfs/pdfllmenv/lib/python3.9/site-packages/langchain_community/document_loaders/pdf.py:346\u001b[0m, in \u001b[0;36mPyMuPDFLoader.__init__\u001b[0;34m(self, file_path, headers, extract_images, **kwargs)\u001b[0m\n\u001b[1;32m    345\u001b[0m \u001b[38;5;28;01mtry\u001b[39;00m:\n\u001b[0;32m--> 346\u001b[0m     \u001b[38;5;28;01mimport\u001b[39;00m \u001b[38;5;21;01mfitz\u001b[39;00m  \u001b[38;5;66;03m# noqa:F401\u001b[39;00m\n\u001b[1;32m    347\u001b[0m \u001b[38;5;28;01mexcept\u001b[39;00m \u001b[38;5;167;01mImportError\u001b[39;00m:\n",
      "\u001b[0;31mModuleNotFoundError\u001b[0m: No module named 'fitz'",
      "\nDuring handling of the above exception, another exception occurred:\n",
      "\u001b[0;31mImportError\u001b[0m                               Traceback (most recent call last)",
      "Cell \u001b[0;32mIn[9], line 1\u001b[0m\n\u001b[0;32m----> 1\u001b[0m loader \u001b[38;5;241m=\u001b[39m \u001b[43mPyMuPDFLoader\u001b[49m\u001b[43m(\u001b[49m\u001b[38;5;124;43m\"\u001b[39;49m\u001b[38;5;124;43m~/Dropbox/LLM-agriculture/PDFs/UV-B照射によるいちごうどんこ病等の防除体系の確立.pdf\u001b[39;49m\u001b[38;5;124;43m\"\u001b[39;49m\u001b[43m)\u001b[49m\n\u001b[1;32m      2\u001b[0m pages \u001b[38;5;241m=\u001b[39m loader\u001b[38;5;241m.\u001b[39mload_and_split()\n",
      "File \u001b[0;32m~/llm-pdfs/pdfllmenv/lib/python3.9/site-packages/langchain_community/document_loaders/pdf.py:348\u001b[0m, in \u001b[0;36mPyMuPDFLoader.__init__\u001b[0;34m(self, file_path, headers, extract_images, **kwargs)\u001b[0m\n\u001b[1;32m    346\u001b[0m     \u001b[38;5;28;01mimport\u001b[39;00m \u001b[38;5;21;01mfitz\u001b[39;00m  \u001b[38;5;66;03m# noqa:F401\u001b[39;00m\n\u001b[1;32m    347\u001b[0m \u001b[38;5;28;01mexcept\u001b[39;00m \u001b[38;5;167;01mImportError\u001b[39;00m:\n\u001b[0;32m--> 348\u001b[0m     \u001b[38;5;28;01mraise\u001b[39;00m \u001b[38;5;167;01mImportError\u001b[39;00m(\n\u001b[1;32m    349\u001b[0m         \u001b[38;5;124m\"\u001b[39m\u001b[38;5;124m`PyMuPDF` package not found, please install it with \u001b[39m\u001b[38;5;124m\"\u001b[39m\n\u001b[1;32m    350\u001b[0m         \u001b[38;5;124m\"\u001b[39m\u001b[38;5;124m`pip install pymupdf`\u001b[39m\u001b[38;5;124m\"\u001b[39m\n\u001b[1;32m    351\u001b[0m     )\n\u001b[1;32m    352\u001b[0m \u001b[38;5;28msuper\u001b[39m()\u001b[38;5;241m.\u001b[39m\u001b[38;5;21m__init__\u001b[39m(file_path, headers\u001b[38;5;241m=\u001b[39mheaders)\n\u001b[1;32m    353\u001b[0m \u001b[38;5;28mself\u001b[39m\u001b[38;5;241m.\u001b[39mextract_images \u001b[38;5;241m=\u001b[39m extract_images\n",
      "\u001b[0;31mImportError\u001b[0m: `PyMuPDF` package not found, please install it with `pip install pymupdf`"
     ]
    }
   ],
   "source": [
    "loader = PyMuPDFLoader(\"~/Dropbox/LLM-agriculture/PDFs/UV-B照射によるいちごうどんこ病等の防除体系の確立.pdf\")\n",
    "pages = loader.load_and_split()\n"
   ]
  },
  {
   "cell_type": "code",
   "execution_count": 5,
   "metadata": {},
   "outputs": [],
   "source": [
    "\n",
    "\n",
    "def make_embedder(model_type, save_path):\n",
    "    if model_type == \"sup-simcse-ja-base\":\n",
    "        model_name = \"cl-nagoya/sup-simcse-ja-base\"\n",
    "        model_kwargs = {'device': 'cpu'}\n",
    "        encode_kwargs = {'normalize_embeddings': False}\n",
    "        embedding_model = HuggingFaceEmbeddings(\n",
    "            model_name=model_name,\n",
    "            model_kwargs=model_kwargs,\n",
    "            encode_kwargs=encode_kwargs\n",
    "            )\n",
    "    else:  # Assuming OpenAIEmbeddings\n",
    "        embedding_model = OpenAIEmbeddings()\n",
    "    \n",
    "    fs = LocalFileStore(save_path)\n",
    "    cached_embedder = CacheBackedEmbeddings.from_bytes_store(embedding_model, fs)\n",
    "    return cached_embedder\n",
    "\n",
    "def save_embeddings_and_ids_with_faiss(all_documents, cached_embedder, save_path):\n",
    "    db = FAISS.from_documents(all_documents, cached_embedder)\n",
    "    db.save_local(save_path)\n",
    "\n",
    "model_type = \"sup-simcse-ja-base\"  # \"sup-simcse-ja-base\" or \"OpenAIEmbeddings\"\n",
    "cached_embedder_dir = \"data/cached_embeddings\"\n",
    "save_path = os.path.join(cached_embedder_dir, model_type)\n",
    "\n",
    "cached_embedder = make_embedder(model_type, save_path)\n",
    "save_embeddings_and_ids_with_faiss(pages, cached_embedder, save_path)"
   ]
  },
  {
   "cell_type": "code",
   "execution_count": 6,
   "metadata": {},
   "outputs": [],
   "source": [
    "model_type = \"sup-simcse-ja-base\"  # \"sup-simcse-ja-base\" or \"OpenAIEmbeddings\"\n",
    "cached_embedder_dir = \"data/cached_embeddings\"\n",
    "save_path = os.path.join(cached_embedder_dir, model_type)\n",
    "\n",
    "model_name = \"cl-nagoya/sup-simcse-ja-base\"\n",
    "model_kwargs = {'device': 'cpu'}\n",
    "encode_kwargs = {'normalize_embeddings': False}\n",
    "embedding_model = HuggingFaceEmbeddings(\n",
    "            model_name=model_name,\n",
    "            model_kwargs=model_kwargs,\n",
    "            encode_kwargs=encode_kwargs\n",
    "            )\n",
    "fs = LocalFileStore(save_path)\n",
    "cached_embedder = CacheBackedEmbeddings.from_bytes_store(embedding_model, fs)\n",
    "db = FAISS.load_local(save_path, cached_embedder)"
   ]
  },
  {
   "cell_type": "code",
   "execution_count": 7,
   "metadata": {},
   "outputs": [],
   "source": [
    "\n",
    "llm = OpenAI(temperature=0, openai_api_key=openai_api_key)\n",
    "qa = RetrievalQA.from_chain_type(llm=llm, chain_type=\"stuff\", retriever=db.as_retriever())"
   ]
  },
  {
   "cell_type": "code",
   "execution_count": 9,
   "metadata": {},
   "outputs": [
    {
     "data": {
      "text/plain": [
       "{'query': 'うどんこ病の福島県での発生状況は？',\n",
       " 'result': ' 県内全域で普通にみられ、イチゴ品種により感受性に差があり、「さちのか」や「ふくはる香」は感染しやすい。'}"
      ]
     },
     "execution_count": 9,
     "metadata": {},
     "output_type": "execute_result"
    }
   ],
   "source": [
    "query = \"うどんこ病の福島県での発生状況は？\"\n",
    "qa.invoke(query)"
   ]
  },
  {
   "cell_type": "code",
   "execution_count": 10,
   "metadata": {},
   "outputs": [
    {
     "data": {
      "text/plain": [
       "{'query': '前年から鉢を使い回すときの注意点は？',\n",
       " 'result': ' 前作使用した育苗土壌やポット等の資材は、消毒するか一斉に更新することが重要です。また、土壌消毒を行い次作に病原菌を持ち越さないようにすることも大切です。'}"
      ]
     },
     "execution_count": 10,
     "metadata": {},
     "output_type": "execute_result"
    }
   ],
   "source": [
    "query = \"前年から鉢を使い回すときの注意点は？\"\n",
    "qa.invoke(query)"
   ]
  },
  {
   "cell_type": "code",
   "execution_count": 11,
   "metadata": {},
   "outputs": [
    {
     "data": {
      "text/plain": [
       "{'query': '炭疽病の発生時期はいつ？',\n",
       " 'result': ' 高温時期に発生しやすい。気温28℃の比較的高温条件で多発する。定植後秋口にすぐ症状が見られるものは、潜在感染した親株から採苗～育苗期に感染したと考えられる。'}"
      ]
     },
     "execution_count": 11,
     "metadata": {},
     "output_type": "execute_result"
    }
   ],
   "source": [
    "query = \"炭疽病の発生時期はいつ？\"\n",
    "qa.invoke(query)"
   ]
  },
  {
   "cell_type": "code",
   "execution_count": null,
   "metadata": {},
   "outputs": [],
   "source": []
  }
 ],
 "metadata": {
  "kernelspec": {
   "display_name": "Python 3",
   "language": "python",
   "name": "python3"
  },
  "language_info": {
   "codemirror_mode": {
    "name": "ipython",
    "version": 3
   },
   "file_extension": ".py",
   "mimetype": "text/x-python",
   "name": "python",
   "nbconvert_exporter": "python",
   "pygments_lexer": "ipython3",
   "version": "3.9.16"
  }
 },
 "nbformat": 4,
 "nbformat_minor": 2
}
