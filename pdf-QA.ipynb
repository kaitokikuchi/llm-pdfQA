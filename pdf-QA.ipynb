{
 "cells": [
  {
   "cell_type": "code",
   "execution_count": 2,
   "metadata": {},
   "outputs": [],
   "source": [
    "from langchain_community.document_loaders import PyPDFLoader\n",
    "import os\n",
    "import getpass\n",
    "from langchain_community.vectorstores import FAISS\n",
    "from langchain_openai import OpenAIEmbeddings\n",
    "from langchain.embeddings import CacheBackedEmbeddings\n",
    "from langchain.storage import LocalFileStore\n",
    "from langchain.embeddings import HuggingFaceEmbeddings\n",
    "\n",
    "os.environ['OPENAI_API_KEY'] = getpass.getpass('OpenAI API Key:')\n",
    "\n",
    "loader = PyPDFLoader(\"~/Dropbox/LLM-agriculture/PDFs/433111_Fukushima.pdf\")\n",
    "pages = loader.load_and_split()\n"
   ]
  },
  {
   "cell_type": "code",
   "execution_count": 3,
   "metadata": {},
   "outputs": [
    {
     "data": {
      "text/plain": [
       "[Document(page_content='○イチゴの病害  \\n土壌病害  \\n（１） 本県での発生状況  \\n本県イチゴ に発生する 土壌病害では、炭疽病と萎黄病が比較的多く問題と なっている。 疫病\\nはまれにみられる程度で、 萎凋病は露地育苗が ほとんどなくなったため、近年は ほとんど見 られ\\nない。 \\n土壌病害は、土壌中の植物残渣などに生存する病原菌により引き起こされ、その病徴は地下\\n部だけでなく地上部まで進展し、株全体が枯死するため、甚大な被害になる恐れがある。  \\n炭疽病は 2001年～2011年にやや多く発生し、現在でも 散見され ている。 \\n萎黄病は 2007年～2011年にやや発生が多かったが、現在は常発ほ場で 見かける程度とな\\nっている。  \\n（２） 形態及び生態、被害の様子  \\n○萎黄病（病原菌： Fusarium oxysporum  ） \\n根から侵入し、導管部を侵す。典型的な病徴は 、小葉の大きさが不ぞろいとな り黄化し、葉は\\n光沢を失い萎凋 する。最終的には、わい化または枯死に至る 。また、クラウンを切断すると導管\\nの一部に褐変が見られる。  \\n【伝搬方法】  \\n土壌伝染・・・厚膜胞子が土壌中に残って伝染源となり、イチゴの根から侵入し感染・発病\\nする。厚膜胞子は数年以上生存できる。  \\n株伝染（潜在感染）・・・潜在感染している親株を使用すると、ランナーを経由して子苗に伝\\n染する。  \\n菌はイチゴのみに寄生し、キュウリ、トマト、ナス等には寄生しない。  \\n【発病時期】  \\n地温18～25℃で発生し、高温ほど病勢が進展する。菌の生育適温は 28℃。 \\n \\n \\n \\n \\n \\n \\n \\n \\n写真1 萎黄病被害株       写真2 被害株に生じる奇形葉      写真3 被害株のクラウン  \\n横断面', metadata={'source': '/Users/kaitokikuchi/Dropbox/LLM-agriculture/PDFs/433111_Fukushima.pdf', 'page': 0}),\n",
       " Document(page_content='○炭疽病（病原菌：  Glomerella cingulata  （Colletotrichum gloeosporioides  ） \\n             ：Colletotrichum  acutatum  ） \\n葉、ランナーなど地上部の各部位とクラウン部を 侵す。病徴は局部病斑と、全身症状の萎凋\\nに分けられ、ランナーや葉柄では 3～7mmの黒色、紡錘形の陥没した 病斑を形成する。時間\\nのたった病斑にはサーモンピンクの分生子塊が形成される。枯死株のクラウン部を切断すると、\\n外側から内部に向かって、赤褐色に変色している。  \\nまた、同じ Colletotrichum 属菌であるが C. acutatum  は花房や果実に被害を生じ、 初期に、\\nがくの裏側が赤 褐し、花が枯死するか、生育が進まず 奇形果となる。なお、 クラウン部の褐変\\nや萎凋症状はみられない。  \\n【伝搬方法】  \\n本ぽにおける第１次伝染源は、潜在感染した親株や被害残渣を含む土壌である。第２次伝\\n染は、病斑上に形成された分生胞子が、雨滴や灌水により周辺株に伝搬する。雨や頭上灌水\\nによって胞子が飛散し、伝染する。  \\n【発生時期】  \\n高温時期に発生しやすい。 気温 28℃の比較的高温条件で多発する。 定植後秋口にすぐ症\\n状が見られるものは 、潜在感染した親株 から採苗～育苗期に感染した と考えられる。  \\n \\n写真4 炭疽病被害株     写真5 葉柄に生じた分生子層   写真6 被害株のクラウン  \\n横断面  \\n \\n \\n \\n \\n \\n \\n写真7 C. acutatum の被害状況  写真8 花房、がく部の褐変    写真9 果房の被害  \\n       （写真 7～9は福島県植物防疫協会  平子喜一氏  提供）  \\n ○疫病（病原菌： Phytophthora nicotianae  ） \\n  根やクラウン部から侵入し、根の基部が褐変、のちに根部葉柄基部に進展して地上部が萎凋\\nする。クラウン部を切断すると表皮部から中心に向かって褐変し、コルク質となる。疫病菌は被害', metadata={'source': '/Users/kaitokikuchi/Dropbox/LLM-agriculture/PDFs/433111_Fukushima.pdf', 'page': 1}),\n",
       " Document(page_content='残渣とともに土壌中に生き残り、土壌伝染する。また、炭疽病と同様に水媒伝染するため、育苗\\n期間の頭上潅水によって 汚染が広がる。  \\n \\n \\n \\n \\n \\n \\n \\n \\n \\n \\n \\n \\n \\n 写真10 疫病被害株      写真11クラウンと根部の状況   写真12 被害株のクラウン部  \\n横断面  \\n           （写真 10～12は福島県植物防疫協会  平子喜一氏  提供）  \\n（３） 発生原因と 防除対策 （発生事例から ） \\n・苗が足りなくなって、他の農家から分譲→分譲してもらう前に、病徴発生の有無を確認する。  \\n・親株等の苗を地面に直接おき 、頭上から灌水し感染→マルチングや高設ベンチの使用、ハ\\nウスの雨よけなどにより、感染拡大防止を図る。  \\n・前年発生した土壌やポット 等をそのまま育苗に使用→前作使用した育苗土壌やポット等の資\\n材は、消毒するか一斉に更新する。  \\n・水が溜まる バットで苗を管理することで 、親株の一部に混入した汚染株から、根を通じて 子苗\\nが感染→水が溜まるバット等で苗を管理しない。底面吸水の場合は専用マットを使用する 。ま\\nた、スペースの許す限り、苗の間隔を広く取って 感染の拡大を防ぎ、 薬剤による予防散布を 徹\\n底する。 \\n・被害残さの放置→発病株や生育が悪く感染が疑 われる株は、発見次第早期に抜き取り、肥\\n料袋などに入れて密封 、またはハウス外で適切に 処分する。また、 土壌消毒を行い次作に病\\n原菌を持ち越さないようにする。  \\n・イチゴは夏季に本ぽが空くので、太陽熱土壌消毒法や土壌還元消毒法による防除が有効。\\nクロールピクリン剤等の土壌消毒剤を利用する場合は、注意事項をよく読み、適切に処理する\\nこと。特に、薬剤使用後は臭気がなくなるまで、十分にガス抜きを実施する。', metadata={'source': '/Users/kaitokikuchi/Dropbox/LLM-agriculture/PDFs/433111_Fukushima.pdf', 'page': 2}),\n",
       " Document(page_content='○土壌病害の 簡易診断法 （徳島県立農総センター  2006年度研究成果より）  \\n 生育不良の親株など で、病徴は出ていないが 疑わしいものは、葉を用いた簡易検定で炭疽病、\\n萎黄病を診断できる。  \\n① 水道水で洗ったイチゴの葉を、水を含\\nませたティッシュ等と一緒にビニール袋に入\\nれて、口を縛る。（乾燥しないように、十分に\\n水を含ませる）  \\n②気温が28 ℃以上になる場所に 12 ～ \\n16日間保管する （日射が当たらないように\\n保管。エアコン等による管理で可） 。 \\n③ 判定：鮭肉色（サーモンピンク）の分生\\n子層が確認されれば炭疽病、 白色綿毛状\\nの菌叢が確認されれば萎黄病の可能性が\\n高い（※より正確に判定するには光学顕微  \\n    鏡で検鏡する必要がある）。  \\n \\n \\n \\n \\n \\n \\n炭疽病菌の分生子層（上）と  \\n分生子（右  :光学顕微鏡写真）  \\n \\n \\n \\n萎黄病菌の分生子柄と  \\n分生子（左 光学顕微鏡写真）  \\n \\n \\n \\n \\n \\n注）生産者向けに 70％エタノールや滅菌水を用いない方法を紹介した 。準備できる場合は①の水\\n道水による洗浄後、 70％エタノールに 30秒浸漬、滅菌水で洗浄（液を変えて 2回）を行ってから\\n②28℃保管に移行する方法もある。  \\n写真13 \\n写真14 \\n写真15 \\n写真16', metadata={'source': '/Users/kaitokikuchi/Dropbox/LLM-agriculture/PDFs/433111_Fukushima.pdf', 'page': 3}),\n",
       " Document(page_content='うどんこ病 （病原菌： Sphaerotheca aphanis ） \\n（１） 本県での発生状況  \\n県内全域で普通にみられる。 イチゴ品種により感受性に差があり、「さちのか」や「ふくはる\\n香」は感染しやすい。 硫黄燻煙による防除が多く実施されて いたが、硫黄による被覆資材の劣\\n化や汚れの発生から、 近年では紫外光（ＵＶ－Ｂ）照射によるうどんこ病の抑制技術が普及し\\nつつある。  \\n \\n \\n写真17 成熟果での被害状況  \\n \\n \\n \\n \\n \\n \\n \\n（２） 形態及び生態、被害の様子  \\n葉、果実、果柄に発生し （写真 17～19）、多発時には葉柄にも発生する。葉に発生した場合\\nは、はじめ小さい白い斑紋 となり、その後表面に うどん粉状の白いかびを生じる。蕾に発生す\\nると花弁は紫紅色に変わり、幼果の肥大が抑えられ、 着色期の果実に発生すると色つきが遅\\nれ傷みやすくなる。発病のために株全体が枯死したり、収量そのものはあまり減少しないが、\\n直接果実に発生すると商品価値を失うため経済的損失が大きい（写真 17,19）。病原菌は糸状\\n菌の一種の子のう菌類に属する。菌糸で越夏し 20℃前後の春秋期に分生子で蔓延する。本\\n菌はイチゴ上で生活環を繰り返し 、イチゴ以外の宿主ではエゾヘビイチゴ、シロバナヘビイチゴ\\nなどがある(野原で普通に見かけるキンポウゲ科のヘビ イチゴは宿主にならない )。 \\n写真18 果柄での症状                 写真19 果実での症状', metadata={'source': '/Users/kaitokikuchi/Dropbox/LLM-agriculture/PDFs/433111_Fukushima.pdf', 'page': 4}),\n",
       " Document(page_content='（３） 防除対策  \\n乾燥条件、多湿条件のいずれの状態でも発生し、 17～20℃前後が胞子発芽適温で 、比較\\n的低温期で発生しやすい。 また、草勢が低下した時に発生が助長される。  \\n防除のポイント は‥ \\n・過乾燥にならないよう管理する。  \\n・草勢が低下しないように適正に肥培管理する。  \\n・葉が茂っていると散布した薬剤が届きにくいため、丁寧に散布する。  \\n \\n灰色かび病 （病原菌： Botrytis cinerea  ） \\n（１） 本県での発生状況  \\n多犯性の菌であり、イチゴの他、トマトやキュウリなど多くの野菜・花き類に発生する。 一般\\nに、ハウスなどの施設栽培で多く発生し、比較的低温で相対湿度が高い時期に 発生が多\\nい。 \\n（２） 形態及び生態、被害の様子  \\n主に果実に発病するが、花弁、葉柄など地上部のあらゆる組織を侵し、時には根冠部を侵\\nし、株を枯死させることもある。果実では収穫期近くのものが特に発病しやすく、初め水浸状、\\n淡褐色の小斑点を生じ、次第に拡大して果実を軟化腐敗させ、全面に灰色微粉状のかびを\\n密生する。  \\n本菌は分生子、菌糸の形で被害植物上に残存するとともに、菌核の形で生存・ 越冬し伝染\\n源になる。時には、他の有機物上で腐生的に生存し伝染源と なる。露地では多雨の場合に、\\n施設栽培では曇雨天が続くとハウス内が多湿となり蔓延する。  \\n 写真20 果梗での症状                 写真21 果実での症状  \\n \\n（３） 防除対策  \\n20～25℃が灰色かび病菌の 生育適温 であるが、 温度より相対湿度の影響が大きく発病を左\\n右する。また、草勢が低下した時に発病しやすい傾向がある 。', metadata={'source': '/Users/kaitokikuchi/Dropbox/LLM-agriculture/PDFs/433111_Fukushima.pdf', 'page': 5}),\n",
       " Document(page_content='防除のポイントは‥  \\n・茎葉が過繁茂にならないよう、下葉や枯 葉の摘葉を実施する。  \\n・草勢が低下しないように適正に肥培管理する。  \\n・湿度管理を適正に行う。  \\n・罹病果実や罹病葉は伝染源となるため見つけ次第 、除去する。', metadata={'source': '/Users/kaitokikuchi/Dropbox/LLM-agriculture/PDFs/433111_Fukushima.pdf', 'page': 6})]"
      ]
     },
     "execution_count": 3,
     "metadata": {},
     "output_type": "execute_result"
    }
   ],
   "source": [
    "pages"
   ]
  },
  {
   "cell_type": "code",
   "execution_count": 6,
   "metadata": {},
   "outputs": [],
   "source": [
    "\n",
    "\n",
    "def make_embedder(model_type, save_path):\n",
    "    if model_type == \"sup-simcse-ja-base\":\n",
    "        model_name = \"cl-nagoya/sup-simcse-ja-base\"\n",
    "        model_kwargs = {'device': 'cpu'}\n",
    "        encode_kwargs = {'normalize_embeddings': False}\n",
    "        embedding_model = HuggingFaceEmbeddings(\n",
    "            model_name=model_name,\n",
    "            model_kwargs=model_kwargs,\n",
    "            encode_kwargs=encode_kwargs\n",
    "            )\n",
    "    else:  # Assuming OpenAIEmbeddings\n",
    "        embedding_model = OpenAIEmbeddings()\n",
    "    \n",
    "    fs = LocalFileStore(save_path)\n",
    "    cached_embedder = CacheBackedEmbeddings.from_bytes_store(embedding_model, fs)\n",
    "    return cached_embedder\n",
    "\n",
    "def save_embeddings_and_ids_with_faiss(all_documents, cached_embedder, save_path):\n",
    "    db = FAISS.from_documents(all_documents, cached_embedder)\n",
    "    db.save_local(save_path)\n",
    "\n",
    "model_type = \"sup-simcse-ja-base\"  # \"sup-simcse-ja-base\" or \"OpenAIEmbeddings\"\n",
    "cached_embedder_dir = \"data/cached_embeddings\"\n",
    "save_path = os.path.join(cached_embedder_dir, model_type)\n",
    "\n",
    "cached_embedder = make_embedder(model_type, save_path)\n",
    "save_embeddings_and_ids_with_faiss(pages, cached_embedder, save_path)"
   ]
  },
  {
   "cell_type": "code",
   "execution_count": 7,
   "metadata": {},
   "outputs": [],
   "source": [
    "# クエリを受け取るたびにロードしなおさなくてよいようにmain実行時にすべてのデータをロードしておく\n",
    "model_name = \"cl-nagoya/sup-simcse-ja-base\"\n",
    "model_kwargs = {'device': 'cpu'}\n",
    "encode_kwargs = {'normalize_embeddings': False}\n",
    "embedding_model = HuggingFaceEmbeddings(\n",
    "            model_name=model_name,\n",
    "            model_kwargs=model_kwargs,\n",
    "            encode_kwargs=encode_kwargs\n",
    "            )\n",
    "fs = LocalFileStore(save_path)\n",
    "cached_embedder = CacheBackedEmbeddings.from_bytes_store(embedding_model, fs)\n",
    "db = FAISS.load_local(save_path, cached_embedder)"
   ]
  },
  {
   "cell_type": "code",
   "execution_count": 14,
   "metadata": {},
   "outputs": [],
   "source": [
    "from langchain.chains import RetrievalQA\n",
    "from langchain_openai import OpenAI\n",
    "openai_api_key = os.getenv('OPENAI_API_KEY', 'YourAPIKeyIfNotSet')\n",
    "llm = OpenAI(temperature=0, openai_api_key=openai_api_key)\n",
    "\n",
    "\n",
    "qa = RetrievalQA.from_chain_type(llm=llm, chain_type=\"stuff\", retriever=db.as_retriever())"
   ]
  },
  {
   "cell_type": "code",
   "execution_count": 17,
   "metadata": {},
   "outputs": [
    {
     "data": {
      "text/plain": [
       "{'query': 'うどんこ病の防除策は何ですか？',\n",
       " 'result': ' うどんこ病の防除策は、茎葉の過繁茂を防ぐために下葉や枯れ葉の摘葉を行うこと、適正な肥培管理を行うこと、湿度管理を適正に行うこと、そして罹病果実や罹病葉を見つけ次第除去することです。また、土壌病害の簡易診断法を用いて炭疽病や萎黄病を早期に発見し、適切な対策を行うことも重要です。さらに、土壌消毒や太陽熱土壌消毒法などの防除方法も有効です。'}"
      ]
     },
     "execution_count": 17,
     "metadata": {},
     "output_type": "execute_result"
    }
   ],
   "source": [
    "query = \"うどんこ病の防除策は何ですか？\"\n",
    "qa.invoke(query)"
   ]
  },
  {
   "cell_type": "code",
   "execution_count": null,
   "metadata": {},
   "outputs": [],
   "source": []
  }
 ],
 "metadata": {
  "kernelspec": {
   "display_name": "Python 3",
   "language": "python",
   "name": "python3"
  },
  "language_info": {
   "codemirror_mode": {
    "name": "ipython",
    "version": 3
   },
   "file_extension": ".py",
   "mimetype": "text/x-python",
   "name": "python",
   "nbconvert_exporter": "python",
   "pygments_lexer": "ipython3",
   "version": "3.9.16"
  }
 },
 "nbformat": 4,
 "nbformat_minor": 2
}
