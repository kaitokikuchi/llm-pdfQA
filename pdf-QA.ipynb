{
 "cells": [
  {
   "cell_type": "code",
   "execution_count": 21,
   "metadata": {},
   "outputs": [],
   "source": [
    "from langchain_community.document_loaders import PyPDFLoader\n",
    "import os\n",
    "import getpass\n",
    "from langchain_community.vectorstores import FAISS\n",
    "from langchain_openai import OpenAIEmbeddings\n",
    "from langchain.embeddings import CacheBackedEmbeddings\n",
    "from langchain.storage import LocalFileStore\n",
    "from langchain.embeddings import HuggingFaceEmbeddings\n",
    "from langchain.chains import RetrievalQA\n",
    "from langchain_openai import OpenAI\n",
    "from langchain_community.document_loaders import OnlinePDFLoader\n",
    "from langchain_community.document_loaders import UnstructuredPDFLoader\n",
    "from langchain_community.document_loaders import PyMuPDFLoader\n",
    "from langchain_community.document_loaders import PyPDFDirectoryLoader\n",
    "openai_api_key = os.getenv('OPENAI_API_KEY', 'YourAPIKeyIfNotSet')\n",
    "\n",
    "os.environ['OPENAI_API_KEY'] = getpass.getpass('OpenAI API Key:')\n",
    "\n"
   ]
  },
  {
   "cell_type": "code",
   "execution_count": 29,
   "metadata": {},
   "outputs": [
    {
     "name": "stderr",
     "output_type": "stream",
     "text": [
      "Illegal character in Name Object (b'/QEOWUY+HG\\x91n\\x89p\\x8ap\\xce\\xdf\\xaf\\xcc\\xdf\\x91\\xcc-WinCharSetFFFF-H')\n",
      "Illegal character in Name Object (b'/QEOWUY+HG\\x91n\\x89p\\x8ap\\xce\\xdf\\xaf\\xcc\\xdf\\x91\\xcc')\n",
      "Illegal character in Name Object (b'/CRDEAK+HG\\x91n\\x89p\\x8ap\\xce\\xdf\\xaf\\xcc\\xdf\\x91\\xcc-WinCharSetFFFF-H')\n",
      "Illegal character in Name Object (b'/CRDEAK+HG\\x91n\\x89p\\x8ap\\xce\\xdf\\xaf\\xcc\\xdf\\x91\\xcc')\n"
     ]
    }
   ],
   "source": [
    "loader = PyPDFDirectoryLoader(\"/Users/kaitokikuchi/Library/CloudStorage/Dropbox/LLM-agriculture/PDFs\")\n",
    "docs = loader.load_and_split()"
   ]
  },
  {
   "cell_type": "code",
   "execution_count": 66,
   "metadata": {},
   "outputs": [],
   "source": [
    "\n",
    "\n",
    "def make_embedder(model_type, save_path):\n",
    "    if model_type == \"sup-simcse-ja-base\":\n",
    "        model_name = \"cl-nagoya/sup-simcse-ja-base\"\n",
    "        model_kwargs = {'device': 'cpu'}\n",
    "        encode_kwargs = {'normalize_embeddings': False}\n",
    "        embedding_model = HuggingFaceEmbeddings(\n",
    "            model_name=model_name,\n",
    "            model_kwargs=model_kwargs,\n",
    "            encode_kwargs=encode_kwargs\n",
    "            )\n",
    "    else:  # Assuming OpenAIEmbeddings\n",
    "        embedding_model = OpenAIEmbeddings(model=\"text-embedding-3-large\")\n",
    "    \n",
    "    fs = LocalFileStore(save_path)\n",
    "    cached_embedder = CacheBackedEmbeddings.from_bytes_store(embedding_model, fs)\n",
    "    return cached_embedder\n",
    "\n",
    "def save_embeddings_and_ids_with_faiss(all_documents, cached_embedder, save_path):\n",
    "    db = FAISS.from_documents(all_documents, cached_embedder)\n",
    "    db.save_local(save_path)\n",
    "\n"
   ]
  },
  {
   "cell_type": "code",
   "execution_count": null,
   "metadata": {},
   "outputs": [],
   "source": [
    "model_type = \"sup-simcse-ja-base\"  # \"sup-simcse-ja-base\" or \"OpenAIEmbeddings\"\n",
    "cached_embedder_dir = \"data/cached_embeddings\"\n",
    "save_path = os.path.join(cached_embedder_dir, model_type)\n",
    "\n",
    "cached_embedder = make_embedder(model_type, save_path)\n",
    "save_embeddings_and_ids_with_faiss(docs, cached_embedder, save_path)"
   ]
  },
  {
   "cell_type": "markdown",
   "metadata": {},
   "source": [
    "Load from cached embedding"
   ]
  },
  {
   "cell_type": "code",
   "execution_count": 91,
   "metadata": {},
   "outputs": [],
   "source": [
    "model_type = \"sup-simcse-ja-base\"  # \"sup-simcse-ja-base\" or \"OpenAIEmbeddings\"\n",
    "cached_embedder_dir = \"data/cached_embeddings\"\n",
    "save_path = os.path.join(cached_embedder_dir, model_type)\n",
    "\n",
    "model_name = \"cl-nagoya/sup-simcse-ja-base\"\n",
    "model_kwargs = {'device': 'cpu'}\n",
    "encode_kwargs = {'normalize_embeddings': False}\n",
    "embedding_model = HuggingFaceEmbeddings(\n",
    "            model_name=model_name,\n",
    "            model_kwargs=model_kwargs,\n",
    "            encode_kwargs=encode_kwargs\n",
    "            )\n",
    "fs = LocalFileStore(save_path)\n",
    "cached_embedder = CacheBackedEmbeddings.from_bytes_store(embedding_model, fs)\n",
    "db = FAISS.load_local(save_path, cached_embedder)"
   ]
  },
  {
   "cell_type": "code",
   "execution_count": 92,
   "metadata": {},
   "outputs": [],
   "source": [
    "\n",
    "def search(query: str):\n",
    "    # Your search logic here\n",
    "    print(query)\n",
    "    embedded_query = embedding_model.embed_query(query)\n",
    "    top_10_similar_docs = db.similarity_search_by_vector(embedded_query, k=10)\n",
    "    for doc in top_10_similar_docs:\n",
    "        print(doc)"
   ]
  },
  {
   "cell_type": "code",
   "execution_count": 93,
   "metadata": {},
   "outputs": [
    {
     "name": "stdout",
     "output_type": "stream",
     "text": [
      "令和4年度の福島県でのハスモンヨトウ発生状況は？\n",
      "page_content='令和５年度 病害虫防除情報  \\n \\n令 和 ５ 年 ８ 月２９日 \\n発表：福島県病害虫防除所  \\n \\n \\n \\n \\n１ 対象作物：野菜類・花き類  \\n２ 病害虫：ハスモンヨトウ  \\n３ 対象地域： 全域 \\n４ 発 生 量：やや多い  \\n \\n【発生状況等 】 \\n(ア) 県内全域 に設置している ハスモンヨトウ のフェロモントラップへの誘殺数が 、８月中下\\n旬に平年を大きく上回りました（図１～５ ）。 \\n(イ) 仙台管区気象台が８月２４ 日に発表した１か月予報では、 気温が平年より高く、本種の\\n発生が助長され ると考えられます。  \\n \\n \\n \\n \\n \\n \\n \\n \\n \\n \\n \\n \\n \\n \\n \\n \\n \\n \\n \\n \\n \\n \\n \\n \\n \\n \\n \\n \\n \\n \\n \\n \\n \\n \\n 誘殺数が多くなっています。  \\n防除対策を徹底し、被害を防ぎましょう。' metadata={'source': '/Users/kaitokikuchi/Library/CloudStorage/Dropbox/LLM-agriculture/PDFs/令和５年度 病害虫防除情報.pdf', 'page': 0}\n",
      "page_content='令和４年度 病害虫防除情報  \\n \\n令 和 ４ 年 ９ 月 ２８日 \\n発表：福島県病害虫防除所  \\n \\nハスモンヨトウ の誘殺数が多くなっています。  \\n防除対策を徹底、被害 を防ぎましょう。  \\n \\n１ 対象作物：野菜類・花き類  \\n２ 病害虫：ハスモンヨトウ  \\n３ 対象地域： 中通り・会津 \\n４ 発 生 量：やや多い  \\n \\n【発生状況等 】 \\n(ア) 中通り及び会津に 設置している ハスモンヨトウ のフェロモントラップへの誘殺数が 、９\\n月上中旬に平年を大きく上回りました（図１～４）。  \\n(イ) ９月中旬に 中通り南部の露地キュウリで幼虫の寄生を確認しています。  \\n(ウ) 仙台管区気象台が９月２２日 に発表した１か月予報では、 気温が平年より高く、本種の\\n発生が助長され ると考えられます。' metadata={'source': '/Users/kaitokikuchi/Library/CloudStorage/Dropbox/LLM-agriculture/PDFs/令和４年度 病害虫防除情報.pdf', 'page': 0}\n",
      "page_content='令和２年度  病害虫発生予察情報  \\n注意報 第９号 \\n令 和 ２ 年 ９ 月 １ ５ 日 \\n発表：福島県病害虫防除所  \\n \\nハスモンヨトウの誘殺数が多くなっています。  \\n防除対策を徹底して被害の発生を防ぎましょう。  \\n \\n１ 対象作物：野菜 類・花き類  \\n２ 病害虫：ハスモンヨトウ  \\n３ 対象地域： 全域 \\n４ 発生量：やや多い  \\n \\n(1) 予報の根拠  \\nア 県内各地に設置しているハスモンヨトウのフェロモントラップへの誘殺数が、 ９月上旬に\\n７地点中５地点で平年を大きく上回りました （図１～５ ）。 \\nイ ９月中旬に浜通り北部でハスモンヨトウ幼虫の寄生を確認してい ます。  \\nウ 仙台管区気象台が９月１０日に発表した１か月予報では 、気温は平年より高 く、本種の 発\\n生を助長すると 考えられます。' metadata={'source': '/Users/kaitokikuchi/Library/CloudStorage/Dropbox/LLM-agriculture/PDFs/令和２年度病害虫発生予察情報注意報第9号.pdf', 'page': 0}\n",
      "page_content='- 2 - \\n \\n \\n \\n \\n \\n \\n \\n \\n \\n \\n写真１ ハスモンヨトウの卵塊と若齢幼虫    写真２ イチゴを加害する若齢幼虫  \\n \\n \\n \\n \\n \\n \\n \\n \\n \\n写真３ サトイモを加害する老齢幼虫      写真４ トルコギキョウの加害状況  \\n \\n \\n \\n \\n \\n \\n \\n \\n \\n \\n写真６ ハスモンヨトウ雄成虫  \\n \\n \\n \\n写真５ ネギの加害状況' metadata={'source': '/Users/kaitokikuchi/Library/CloudStorage/Dropbox/LLM-agriculture/PDFs/チョウ目害虫.pdf', 'page': 1}\n",
      "page_content='平成３０ 年度 病害虫発生予察情報  \\n注意報 第４号 \\n \\n平成３０年８月２２ 日 \\n発表：福島県病害虫防除所  \\n１ 対象作物：野菜 類・花き類  \\n２ 病害虫：オオタバコガ  \\n３ 対象地域および発生量 ：県内全域  \\n４ 発生量：多い  \\n \\nオオタバコガの誘殺数が多くなっています。  \\n防除対策を徹底して被害の発生を防ぎましょう。  \\n \\n【予報の根拠 】 \\n（１）県内各地に設置しているオオタバコガのフ ェロモントラップへの誘殺数が、 ７月中旬から\\n増加し、８月上旬には すべての設置場所において、 平年を大きく上回る 誘殺数となりました\\n（図１～４）。 \\n（２）８月４半旬に実施した巡回調査では、 トマトやキクで本種幼虫による 被害が確認され、 ト\\nルコギキョウ 等の作物でも被害が見られました 。' metadata={'source': '/Users/kaitokikuchi/Library/CloudStorage/Dropbox/LLM-agriculture/PDFs/平成30年度病害虫発生予察情報注意報第4号.pdf', 'page': 0}\n",
      "page_content='写真１ ハスモンヨトウ 終齢幼虫         写真２ ハスモンヨトウ成虫   \\n \\n \\n \\n \\n \\n \\n \\n \\n \\n \\n \\n \\n \\n  写真３ 孵化直後の若齢幼虫            写真４ 被害葉（白変葉）  \\n \\n \\n●情報内容への質問や要望は、福島県農業総合センター安全農業推進部発生予察課（病害虫防除所）\\nまで御連絡ください。  \\nＴＥＬ ０２４－９５８－１７０９     ＦＡＸ ０２４－９５８－１７２７' metadata={'source': '/Users/kaitokikuchi/Library/CloudStorage/Dropbox/LLM-agriculture/PDFs/令和３年度 病害虫防除情報.pdf', 'page': 1}\n",
      "page_content='020406080100\\n前年\\n（2020）本年\\n（2021）平年程\\n度\\n別\\n発\\n生\\nほ\\n場\\n割\\n合\\n(％)甚（96％以上）\\n多（71～95％）\\n中（41～70％）\\n少（1～40％）寄生株率 (令和３年度病害虫防除情報  \\n  令 和 ３ 年 10月12日 \\n発表：福島県病害虫防除所  \\n \\nイチゴでハダニ類の発生が多くなるおそれがあります 。 \\n蔓延する前に防除 を徹底し ましょう ！ \\n \\n１ 対象作 物：イチゴ \\n２ 病害 虫：ハダニ類  \\n３ 対象地 域：全域 \\n \\n[発生状況 ] \\n１ 県内全域 で発生を確認 しています。 \\n２ 発生ほ場割合は 平年並でしたが、 前年より もやや高く、 発生程度の高いほ場も認められています （図\\n１）。 \\n３ 天候予報（10月７日仙台管区気象台発表） によ ると、 向こう１か月の気温は高 いと予想されており、\\n今後、ほ場内で急激に増殖す るおそれ があります。  \\n \\n[発生生態と被害 ] \\n葉裏に寄生することが多く、葉面からの吸汁により被害が生じます。吸 汁加害を受けた葉表側には、\\n白っぽいかすり状の被害痕が生じ （写真２） 、寄生数が多くなると葉全体が生気を失うとともに、ハダ\\nニ類の吐 糸によりクモの巣で覆われたようになって萎縮し、枯死 に至ります （写真３） 。 \\n \\n \\n \\n \\n \\n \\n \\n \\n \\n \\n \\n \\n \\n    写真１： ナミハダニ              図１：ハダニ類の発生状況 （10月上旬）  \\n [防除対策 ] \\n（１）ハダニ類は葉の裏に多く寄生するので、薬剤は葉裏まで十分 かかるよう丁寧に散布する。  \\nなお、茎葉が繁茂している場合は古葉を摘 葉して防除を行う。  \\n（２）既に多発しているほ場では、１回の薬剤散布のみでは薬剤の散布むら等で効果が不十分となる場\\n合があるので、効果を確認しながら複数回散布する。  \\n（３）薬剤感受性が低下しやすいので、薬剤の効果を確認し、 気門封鎖剤も含めて 系統の異なる薬剤を\\nローテーション散布する（表１）。  \\n（４）天敵製剤 （ミヤコカブリダニ、チリカブリダニ等）を使用 しているほ場では、ハダニ類の発生状\\n況に応じて、天敵に影響の小さい 薬剤を選択する。  \\n（５）薬剤散布の際は、ミツバチに影響の少ない薬剤を使用する。  \\n（６）農薬使用基準を遵守し、適正な農薬散布作業の実施と安全で効果的な防除に努める。  \\n（７）施設を加温する前に防除を徹底する。' metadata={'source': '/Users/kaitokikuchi/Library/CloudStorage/Dropbox/LLM-agriculture/PDFs/イチゴでハダニ類の発生が多くなるおそれがあります.pdf', 'page': 0}\n",
      "page_content='平成２９年度 病害虫発生予察情報  \\n注意報 第２号  \\n \\n平成３０年３月１４ 日 \\n発表：福島県病害虫防除所  \\n１ 対象作物：イチゴ  \\n２ 病害虫：ハダニ類  \\n３ 対象地域および発生量 ：県内全域 多い  \\n \\n～イチゴハダニ類 の発生が多くなる見込み ～ \\n \\n【予報の根拠 】 \\n（１）本年３月上旬の巡回調査では 、発生ほ場割合は 90%（平年 57.8%）、寄生株率は 36.6%（平\\n年14.5%）と、過去10年間で発生ほ場割合、寄生株率ともに 最も高かった （図１、図２）。 \\n \\n（２）平成30年3月8日発表の 1ヶ月予報によると、気温は平年並みまたは高い 予想であり、ハダニ\\n類の増殖に適した気象条件が続くと考えられる。  \\n \\n  \\n \\n \\n \\n \\n \\n \\n \\n \\n \\n \\n \\n \\n写真１  ナミハダニ                    図１ ハダニ類の発生状況（３月上旬）    \\n            \\n \\n   \\n \\n \\n \\n \\n \\n \\n \\n \\n \\n \\n \\n \\n \\n \\n \\n \\n           図２ ハダニ類の寄生株率の年次比較（３月上旬）' metadata={'source': '/Users/kaitokikuchi/Library/CloudStorage/Dropbox/LLM-agriculture/PDFs/平成29年度病害虫発生予察情報注意報第2号.pdf', 'page': 0}\n",
      "page_content='４ ハダニ類   \\n発生ほ場割合は平年 よりやや高い状況 でした（図４）。今後気温が高く なることが見込まれるので、\\n早期発見に努め、低密度時から防除を実施してください 。 \\n \\n \\n \\n \\n \\n \\n \\n５ コナジラミ類   \\n発生ほ場割合は平年並でした（図５）。密度が高くなるとすす病発生の原因となるので、低密度時か\\nら防除を実施してください。   \\n \\n \\n \\n \\n \\n \\n \\n６ ハスモンヨトウ   \\n巡回調査で寄生は確認されませんでした （図６）。 成虫の飛来、産卵は 11月上旬頃まで続くので、 ほ\\n場をよく観察し、寄生 が見られた場合は 速やかに防除を行 ってください （令和４年９月28日付け防除情\\n報参照） 。フェロモントラップでの誘殺数がやや多くなっているので発生に注意してください。   \\n \\n \\n \\n \\n \\n \\n \\n \\n● 情報内容への質問や要望は、福島県病害虫防除所まで御連絡ください。  \\nTel:024-958-1709  Fax:024-958-1727 Mail:yosatsu@pref.fukushima.lg.jp' metadata={'source': '/Users/kaitokikuchi/Library/CloudStorage/Dropbox/LLM-agriculture/PDFs/令和4年度\\u3000イチゴの病害虫の発生状況（10月上旬）.pdf', 'page': 1}\n",
      "page_content='Ⅱ 具体的データ等 \\nⅢ その他 \\n１ 執筆者 \\n小林 智之 \\n２ 研究課題名 \\n寒冷地における良食味四季成り性品種定着のための夏秋どりイチゴ栽培技術の確立 \\n３ 主な参考文献・資料 \\n（１） 平成17～19年度福島 県 農 業 総合 セ ン タ ー 試験 成 績概 要 \\n図２ シクラメンホコリダニによる被害度 (北塩原村2010年)注： 1) 被害程度は A～Eの5段階、 A：症状なし、 B：展開葉に軽 \\nい萎縮､ C：成長点部に軽微な褐変 D：成長点部に重度の褐 \\n変、E：生長点部の枯死とし、被害度 =(B＋2C ＋3D ＋4E )/\\n(4×調査株数)× 100 (調査株数は 1250 株)から算出 \\n2) 天敵放飼および使用資材は図 1と同様 \\n3) 慣行防除区ではシクラメンホコリダニ防除のため、 9月3日\\nにコロマイト水和剤を使用 図１ カブリダニ類およびアザミウマ類発生の推移 (北塩原村、2010年)\\n注：1）総合防除区ではスワルスキーカブリダニ25,000頭/10a、ミヤコカブリダニ5,000頭/10 aを6月24日、7月22日の2回放飼 \\n2) カブリダニ類は各区40株の各1複葉＋1花房を、アザミウマ類は各区40株から各1花房の調査合計 \\n3) 総合防除区では側面開口部に1mm目合防虫ﾈｯﾄ展張し、両区ともに屋根面にUVカットフィルムを展張 \\n4) 図中の はアザミウマ類対象の化学合成殺虫剤、 は天敵の導入時期   表１ イチゴに定着するカブリダニ類の \\n\\u3000\\u3000 種構成(福島県北塩原村、2010年) \\n葉 花房 葉 花房 \\nスワルスキー \\nカブリダニ虫数 11 8 9 4\\nミヤコ \\nカブリダニ虫数 1 0 0 0種別 9月17日 10月1日 注：1）スワルスキーカブリダニ25,000頭/10a、ミヤコカブリダニ \\n5,000頭/10aを6月24日、7月22日の2回放飼 \\n2)１複葉および１果房から採取された全てのカブリダニ類を調査' metadata={'source': '/Users/kaitokikuchi/Library/CloudStorage/Dropbox/LLM-agriculture/PDFs/夏秋どりイチゴの難防除害虫に対する総合防除.pdf', 'page': 1}\n"
     ]
    }
   ],
   "source": [
    "search(\"令和4年度の福島県でのハスモンヨトウ発生状況は？\")"
   ]
  },
  {
   "cell_type": "code",
   "execution_count": 94,
   "metadata": {},
   "outputs": [],
   "source": [
    "\n",
    "llm = OpenAI(temperature=0, openai_api_key=openai_api_key)\n",
    "qa = RetrievalQA.from_chain_type(llm=llm, chain_type=\"map_reduce\", retriever=db.as_retriever()) #chain_type=\"stuff\" occasionally results in token size limit error"
   ]
  },
  {
   "cell_type": "code",
   "execution_count": 95,
   "metadata": {},
   "outputs": [
    {
     "data": {
      "text/plain": [
       "{'query': '令和4年度の福島県でのハスモンヨトウ発生状況は？',\n",
       " 'result': ' 令和4年度の福島県でのハスモンヨトウの発生状況はやや多い。'}"
      ]
     },
     "execution_count": 95,
     "metadata": {},
     "output_type": "execute_result"
    }
   ],
   "source": [
    "\n",
    "qa.invoke(\"令和4年度の福島県でのハスモンヨトウ発生状況は？\")"
   ]
  },
  {
   "cell_type": "code",
   "execution_count": 100,
   "metadata": {},
   "outputs": [
    {
     "data": {
      "text/plain": [
       "{'query': '例年の炭疽病の発生時期はいつ？', 'result': ' 例年の炭疽病の発生時期は5月から6月にかけてです。'}"
      ]
     },
     "execution_count": 100,
     "metadata": {},
     "output_type": "execute_result"
    }
   ],
   "source": [
    "query = \"例年の炭疽病の発生時期はいつ？\"\n",
    "qa.invoke(query)"
   ]
  },
  {
   "cell_type": "code",
   "execution_count": 97,
   "metadata": {},
   "outputs": [
    {
     "data": {
      "text/plain": [
       "{'query': 'イチゴのうどんこ病の防ぎ方を具体的に教えてください',\n",
       " 'result': ' イチゴのうどんこ病の防ぎ方は、発生初期から防除を徹底することが重要です。'}"
      ]
     },
     "execution_count": 97,
     "metadata": {},
     "output_type": "execute_result"
    }
   ],
   "source": [
    "query = \"イチゴのうどんこ病の防ぎ方を具体的に教えてください\"\n",
    "qa.invoke(query)"
   ]
  },
  {
   "cell_type": "code",
   "execution_count": 98,
   "metadata": {},
   "outputs": [
    {
     "data": {
      "text/plain": [
       "{'query': '紫外線はうどんこ病を防げる？', 'result': ' 紫外線はうどんこ病の発病を抑制する効果がある。'}"
      ]
     },
     "execution_count": 98,
     "metadata": {},
     "output_type": "execute_result"
    }
   ],
   "source": [
    "query = \"紫外線はうどんこ病を防げる？\"\n",
    "qa.invoke(query)"
   ]
  },
  {
   "cell_type": "code",
   "execution_count": 88,
   "metadata": {},
   "outputs": [
    {
     "data": {
      "text/plain": [
       "21"
      ]
     },
     "execution_count": 88,
     "metadata": {},
     "output_type": "execute_result"
    }
   ],
   "source": [
    "import tiktoken\n",
    "def num_tokens_from_string(string: str, encoding_name: str) -> int:\n",
    "    \"\"\"Returns the number of tokens in a text string.\"\"\"\n",
    "    encoding = tiktoken.get_encoding(encoding_name)\n",
    "    num_tokens = len(encoding.encode(string))\n",
    "    return num_tokens\n",
    "\n",
    "\n",
    "encoding = tiktoken.get_encoding(\"cl100k_base\")\n",
    "len(encoding.encode(\"紫外線はうどんこ病を防げる？\"))\n"
   ]
  },
  {
   "cell_type": "markdown",
   "metadata": {},
   "source": [
    "# Using OpenAI Embeddings\n",
    "Note: as of 02/04/2024 Tiktoken has not been updated to include the [new OpenAI embedders](https://openai.com/blog/new-embedding-models-and-api-updates) so `Warning: model not found. Using cl100k_base encoding.` will be raised ([PR link](https://github.com/openai/tiktoken/pull/247))"
   ]
  },
  {
   "cell_type": "code",
   "execution_count": 101,
   "metadata": {},
   "outputs": [],
   "source": [
    "model_type = \"OpenAIEmbeddings\"  # \"sup-simcse-ja-base\" or \"OpenAIEmbeddings\"\n",
    "cached_embedder_dir = \"data/cached_embeddings\"\n",
    "save_path = os.path.join(cached_embedder_dir, model_type)\n",
    "\n",
    "cached_embedder = make_embedder(model_type, save_path)\n",
    "save_embeddings_and_ids_with_faiss(docs, cached_embedder, save_path)"
   ]
  },
  {
   "cell_type": "code",
   "execution_count": 102,
   "metadata": {},
   "outputs": [],
   "source": [
    "model_type = \"OpenAIEmbeddings\"  # \"sup-simcse-ja-base\" or \"OpenAIEmbeddings\"\n",
    "cached_embedder_dir = \"data/cached_embeddings\"\n",
    "save_path = os.path.join(cached_embedder_dir, model_type)\n",
    "\n",
    "embedding_model = embedding_model = OpenAIEmbeddings(model=\"text-embedding-3-large\")\n",
    "fs = LocalFileStore(save_path)\n",
    "cached_embedder = CacheBackedEmbeddings.from_bytes_store(embedding_model, fs)\n",
    "db = FAISS.load_local(save_path, cached_embedder)\n",
    "llm = OpenAI(temperature=0, openai_api_key=openai_api_key)\n",
    "qa = RetrievalQA.from_chain_type(llm=llm, chain_type=\"map_reduce\", retriever=db.as_retriever())"
   ]
  },
  {
   "cell_type": "code",
   "execution_count": 103,
   "metadata": {},
   "outputs": [
    {
     "name": "stderr",
     "output_type": "stream",
     "text": [
      "Warning: model not found. Using cl100k_base encoding.\n"
     ]
    },
    {
     "ename": "AssertionError",
     "evalue": "",
     "output_type": "error",
     "traceback": [
      "\u001b[0;31m---------------------------------------------------------------------------\u001b[0m",
      "\u001b[0;31mAssertionError\u001b[0m                            Traceback (most recent call last)",
      "Cell \u001b[0;32mIn[103], line 2\u001b[0m\n\u001b[1;32m      1\u001b[0m query \u001b[38;5;241m=\u001b[39m \u001b[38;5;124m\"\u001b[39m\u001b[38;5;124m令和3年の福島県でのハスモンヨトウ発生状況は？\u001b[39m\u001b[38;5;124m\"\u001b[39m\n\u001b[0;32m----> 2\u001b[0m \u001b[43mqa\u001b[49m\u001b[38;5;241;43m.\u001b[39;49m\u001b[43minvoke\u001b[49m\u001b[43m(\u001b[49m\u001b[43mquery\u001b[49m\u001b[43m)\u001b[49m\n",
      "File \u001b[0;32m~/llm-pdfs/.venv/lib/python3.11/site-packages/langchain/chains/base.py:162\u001b[0m, in \u001b[0;36mChain.invoke\u001b[0;34m(self, input, config, **kwargs)\u001b[0m\n\u001b[1;32m    160\u001b[0m \u001b[38;5;28;01mexcept\u001b[39;00m \u001b[38;5;167;01mBaseException\u001b[39;00m \u001b[38;5;28;01mas\u001b[39;00m e:\n\u001b[1;32m    161\u001b[0m     run_manager\u001b[38;5;241m.\u001b[39mon_chain_error(e)\n\u001b[0;32m--> 162\u001b[0m     \u001b[38;5;28;01mraise\u001b[39;00m e\n\u001b[1;32m    163\u001b[0m run_manager\u001b[38;5;241m.\u001b[39mon_chain_end(outputs)\n\u001b[1;32m    164\u001b[0m final_outputs: Dict[\u001b[38;5;28mstr\u001b[39m, Any] \u001b[38;5;241m=\u001b[39m \u001b[38;5;28mself\u001b[39m\u001b[38;5;241m.\u001b[39mprep_outputs(\n\u001b[1;32m    165\u001b[0m     inputs, outputs, return_only_outputs\n\u001b[1;32m    166\u001b[0m )\n",
      "File \u001b[0;32m~/llm-pdfs/.venv/lib/python3.11/site-packages/langchain/chains/base.py:156\u001b[0m, in \u001b[0;36mChain.invoke\u001b[0;34m(self, input, config, **kwargs)\u001b[0m\n\u001b[1;32m    149\u001b[0m run_manager \u001b[38;5;241m=\u001b[39m callback_manager\u001b[38;5;241m.\u001b[39mon_chain_start(\n\u001b[1;32m    150\u001b[0m     dumpd(\u001b[38;5;28mself\u001b[39m),\n\u001b[1;32m    151\u001b[0m     inputs,\n\u001b[1;32m    152\u001b[0m     name\u001b[38;5;241m=\u001b[39mrun_name,\n\u001b[1;32m    153\u001b[0m )\n\u001b[1;32m    154\u001b[0m \u001b[38;5;28;01mtry\u001b[39;00m:\n\u001b[1;32m    155\u001b[0m     outputs \u001b[38;5;241m=\u001b[39m (\n\u001b[0;32m--> 156\u001b[0m         \u001b[38;5;28;43mself\u001b[39;49m\u001b[38;5;241;43m.\u001b[39;49m\u001b[43m_call\u001b[49m\u001b[43m(\u001b[49m\u001b[43minputs\u001b[49m\u001b[43m,\u001b[49m\u001b[43m \u001b[49m\u001b[43mrun_manager\u001b[49m\u001b[38;5;241;43m=\u001b[39;49m\u001b[43mrun_manager\u001b[49m\u001b[43m)\u001b[49m\n\u001b[1;32m    157\u001b[0m         \u001b[38;5;28;01mif\u001b[39;00m new_arg_supported\n\u001b[1;32m    158\u001b[0m         \u001b[38;5;28;01melse\u001b[39;00m \u001b[38;5;28mself\u001b[39m\u001b[38;5;241m.\u001b[39m_call(inputs)\n\u001b[1;32m    159\u001b[0m     )\n\u001b[1;32m    160\u001b[0m \u001b[38;5;28;01mexcept\u001b[39;00m \u001b[38;5;167;01mBaseException\u001b[39;00m \u001b[38;5;28;01mas\u001b[39;00m e:\n\u001b[1;32m    161\u001b[0m     run_manager\u001b[38;5;241m.\u001b[39mon_chain_error(e)\n",
      "File \u001b[0;32m~/llm-pdfs/.venv/lib/python3.11/site-packages/langchain/chains/retrieval_qa/base.py:141\u001b[0m, in \u001b[0;36mBaseRetrievalQA._call\u001b[0;34m(self, inputs, run_manager)\u001b[0m\n\u001b[1;32m    137\u001b[0m accepts_run_manager \u001b[38;5;241m=\u001b[39m (\n\u001b[1;32m    138\u001b[0m     \u001b[38;5;124m\"\u001b[39m\u001b[38;5;124mrun_manager\u001b[39m\u001b[38;5;124m\"\u001b[39m \u001b[38;5;129;01min\u001b[39;00m inspect\u001b[38;5;241m.\u001b[39msignature(\u001b[38;5;28mself\u001b[39m\u001b[38;5;241m.\u001b[39m_get_docs)\u001b[38;5;241m.\u001b[39mparameters\n\u001b[1;32m    139\u001b[0m )\n\u001b[1;32m    140\u001b[0m \u001b[38;5;28;01mif\u001b[39;00m accepts_run_manager:\n\u001b[0;32m--> 141\u001b[0m     docs \u001b[38;5;241m=\u001b[39m \u001b[38;5;28;43mself\u001b[39;49m\u001b[38;5;241;43m.\u001b[39;49m\u001b[43m_get_docs\u001b[49m\u001b[43m(\u001b[49m\u001b[43mquestion\u001b[49m\u001b[43m,\u001b[49m\u001b[43m \u001b[49m\u001b[43mrun_manager\u001b[49m\u001b[38;5;241;43m=\u001b[39;49m\u001b[43m_run_manager\u001b[49m\u001b[43m)\u001b[49m\n\u001b[1;32m    142\u001b[0m \u001b[38;5;28;01melse\u001b[39;00m:\n\u001b[1;32m    143\u001b[0m     docs \u001b[38;5;241m=\u001b[39m \u001b[38;5;28mself\u001b[39m\u001b[38;5;241m.\u001b[39m_get_docs(question)  \u001b[38;5;66;03m# type: ignore[call-arg]\u001b[39;00m\n",
      "File \u001b[0;32m~/llm-pdfs/.venv/lib/python3.11/site-packages/langchain/chains/retrieval_qa/base.py:221\u001b[0m, in \u001b[0;36mRetrievalQA._get_docs\u001b[0;34m(self, question, run_manager)\u001b[0m\n\u001b[1;32m    214\u001b[0m \u001b[38;5;28;01mdef\u001b[39;00m \u001b[38;5;21m_get_docs\u001b[39m(\n\u001b[1;32m    215\u001b[0m     \u001b[38;5;28mself\u001b[39m,\n\u001b[1;32m    216\u001b[0m     question: \u001b[38;5;28mstr\u001b[39m,\n\u001b[1;32m    217\u001b[0m     \u001b[38;5;241m*\u001b[39m,\n\u001b[1;32m    218\u001b[0m     run_manager: CallbackManagerForChainRun,\n\u001b[1;32m    219\u001b[0m ) \u001b[38;5;241m-\u001b[39m\u001b[38;5;241m>\u001b[39m List[Document]:\n\u001b[1;32m    220\u001b[0m \u001b[38;5;250m    \u001b[39m\u001b[38;5;124;03m\"\"\"Get docs.\"\"\"\u001b[39;00m\n\u001b[0;32m--> 221\u001b[0m     \u001b[38;5;28;01mreturn\u001b[39;00m \u001b[38;5;28;43mself\u001b[39;49m\u001b[38;5;241;43m.\u001b[39;49m\u001b[43mretriever\u001b[49m\u001b[38;5;241;43m.\u001b[39;49m\u001b[43mget_relevant_documents\u001b[49m\u001b[43m(\u001b[49m\n\u001b[1;32m    222\u001b[0m \u001b[43m        \u001b[49m\u001b[43mquestion\u001b[49m\u001b[43m,\u001b[49m\u001b[43m \u001b[49m\u001b[43mcallbacks\u001b[49m\u001b[38;5;241;43m=\u001b[39;49m\u001b[43mrun_manager\u001b[49m\u001b[38;5;241;43m.\u001b[39;49m\u001b[43mget_child\u001b[49m\u001b[43m(\u001b[49m\u001b[43m)\u001b[49m\n\u001b[1;32m    223\u001b[0m \u001b[43m    \u001b[49m\u001b[43m)\u001b[49m\n",
      "File \u001b[0;32m~/llm-pdfs/.venv/lib/python3.11/site-packages/langchain_core/retrievers.py:224\u001b[0m, in \u001b[0;36mBaseRetriever.get_relevant_documents\u001b[0;34m(self, query, callbacks, tags, metadata, run_name, **kwargs)\u001b[0m\n\u001b[1;32m    222\u001b[0m \u001b[38;5;28;01mexcept\u001b[39;00m \u001b[38;5;167;01mException\u001b[39;00m \u001b[38;5;28;01mas\u001b[39;00m e:\n\u001b[1;32m    223\u001b[0m     run_manager\u001b[38;5;241m.\u001b[39mon_retriever_error(e)\n\u001b[0;32m--> 224\u001b[0m     \u001b[38;5;28;01mraise\u001b[39;00m e\n\u001b[1;32m    225\u001b[0m \u001b[38;5;28;01melse\u001b[39;00m:\n\u001b[1;32m    226\u001b[0m     run_manager\u001b[38;5;241m.\u001b[39mon_retriever_end(\n\u001b[1;32m    227\u001b[0m         result,\n\u001b[1;32m    228\u001b[0m     )\n",
      "File \u001b[0;32m~/llm-pdfs/.venv/lib/python3.11/site-packages/langchain_core/retrievers.py:217\u001b[0m, in \u001b[0;36mBaseRetriever.get_relevant_documents\u001b[0;34m(self, query, callbacks, tags, metadata, run_name, **kwargs)\u001b[0m\n\u001b[1;32m    215\u001b[0m _kwargs \u001b[38;5;241m=\u001b[39m kwargs \u001b[38;5;28;01mif\u001b[39;00m \u001b[38;5;28mself\u001b[39m\u001b[38;5;241m.\u001b[39m_expects_other_args \u001b[38;5;28;01melse\u001b[39;00m {}\n\u001b[1;32m    216\u001b[0m \u001b[38;5;28;01mif\u001b[39;00m \u001b[38;5;28mself\u001b[39m\u001b[38;5;241m.\u001b[39m_new_arg_supported:\n\u001b[0;32m--> 217\u001b[0m     result \u001b[38;5;241m=\u001b[39m \u001b[38;5;28;43mself\u001b[39;49m\u001b[38;5;241;43m.\u001b[39;49m\u001b[43m_get_relevant_documents\u001b[49m\u001b[43m(\u001b[49m\n\u001b[1;32m    218\u001b[0m \u001b[43m        \u001b[49m\u001b[43mquery\u001b[49m\u001b[43m,\u001b[49m\u001b[43m \u001b[49m\u001b[43mrun_manager\u001b[49m\u001b[38;5;241;43m=\u001b[39;49m\u001b[43mrun_manager\u001b[49m\u001b[43m,\u001b[49m\u001b[43m \u001b[49m\u001b[38;5;241;43m*\u001b[39;49m\u001b[38;5;241;43m*\u001b[39;49m\u001b[43m_kwargs\u001b[49m\n\u001b[1;32m    219\u001b[0m \u001b[43m    \u001b[49m\u001b[43m)\u001b[49m\n\u001b[1;32m    220\u001b[0m \u001b[38;5;28;01melse\u001b[39;00m:\n\u001b[1;32m    221\u001b[0m     result \u001b[38;5;241m=\u001b[39m \u001b[38;5;28mself\u001b[39m\u001b[38;5;241m.\u001b[39m_get_relevant_documents(query, \u001b[38;5;241m*\u001b[39m\u001b[38;5;241m*\u001b[39m_kwargs)\n",
      "File \u001b[0;32m~/llm-pdfs/.venv/lib/python3.11/site-packages/langchain_core/vectorstores.py:654\u001b[0m, in \u001b[0;36mVectorStoreRetriever._get_relevant_documents\u001b[0;34m(self, query, run_manager)\u001b[0m\n\u001b[1;32m    650\u001b[0m \u001b[38;5;28;01mdef\u001b[39;00m \u001b[38;5;21m_get_relevant_documents\u001b[39m(\n\u001b[1;32m    651\u001b[0m     \u001b[38;5;28mself\u001b[39m, query: \u001b[38;5;28mstr\u001b[39m, \u001b[38;5;241m*\u001b[39m, run_manager: CallbackManagerForRetrieverRun\n\u001b[1;32m    652\u001b[0m ) \u001b[38;5;241m-\u001b[39m\u001b[38;5;241m>\u001b[39m List[Document]:\n\u001b[1;32m    653\u001b[0m     \u001b[38;5;28;01mif\u001b[39;00m \u001b[38;5;28mself\u001b[39m\u001b[38;5;241m.\u001b[39msearch_type \u001b[38;5;241m==\u001b[39m \u001b[38;5;124m\"\u001b[39m\u001b[38;5;124msimilarity\u001b[39m\u001b[38;5;124m\"\u001b[39m:\n\u001b[0;32m--> 654\u001b[0m         docs \u001b[38;5;241m=\u001b[39m \u001b[38;5;28;43mself\u001b[39;49m\u001b[38;5;241;43m.\u001b[39;49m\u001b[43mvectorstore\u001b[49m\u001b[38;5;241;43m.\u001b[39;49m\u001b[43msimilarity_search\u001b[49m\u001b[43m(\u001b[49m\u001b[43mquery\u001b[49m\u001b[43m,\u001b[49m\u001b[43m \u001b[49m\u001b[38;5;241;43m*\u001b[39;49m\u001b[38;5;241;43m*\u001b[39;49m\u001b[38;5;28;43mself\u001b[39;49m\u001b[38;5;241;43m.\u001b[39;49m\u001b[43msearch_kwargs\u001b[49m\u001b[43m)\u001b[49m\n\u001b[1;32m    655\u001b[0m     \u001b[38;5;28;01melif\u001b[39;00m \u001b[38;5;28mself\u001b[39m\u001b[38;5;241m.\u001b[39msearch_type \u001b[38;5;241m==\u001b[39m \u001b[38;5;124m\"\u001b[39m\u001b[38;5;124msimilarity_score_threshold\u001b[39m\u001b[38;5;124m\"\u001b[39m:\n\u001b[1;32m    656\u001b[0m         docs_and_similarities \u001b[38;5;241m=\u001b[39m (\n\u001b[1;32m    657\u001b[0m             \u001b[38;5;28mself\u001b[39m\u001b[38;5;241m.\u001b[39mvectorstore\u001b[38;5;241m.\u001b[39msimilarity_search_with_relevance_scores(\n\u001b[1;32m    658\u001b[0m                 query, \u001b[38;5;241m*\u001b[39m\u001b[38;5;241m*\u001b[39m\u001b[38;5;28mself\u001b[39m\u001b[38;5;241m.\u001b[39msearch_kwargs\n\u001b[1;32m    659\u001b[0m             )\n\u001b[1;32m    660\u001b[0m         )\n",
      "File \u001b[0;32m~/llm-pdfs/.venv/lib/python3.11/site-packages/langchain_community/vectorstores/faiss.py:544\u001b[0m, in \u001b[0;36mFAISS.similarity_search\u001b[0;34m(self, query, k, filter, fetch_k, **kwargs)\u001b[0m\n\u001b[1;32m    524\u001b[0m \u001b[38;5;28;01mdef\u001b[39;00m \u001b[38;5;21msimilarity_search\u001b[39m(\n\u001b[1;32m    525\u001b[0m     \u001b[38;5;28mself\u001b[39m,\n\u001b[1;32m    526\u001b[0m     query: \u001b[38;5;28mstr\u001b[39m,\n\u001b[0;32m   (...)\u001b[0m\n\u001b[1;32m    530\u001b[0m     \u001b[38;5;241m*\u001b[39m\u001b[38;5;241m*\u001b[39mkwargs: Any,\n\u001b[1;32m    531\u001b[0m ) \u001b[38;5;241m-\u001b[39m\u001b[38;5;241m>\u001b[39m List[Document]:\n\u001b[1;32m    532\u001b[0m \u001b[38;5;250m    \u001b[39m\u001b[38;5;124;03m\"\"\"Return docs most similar to query.\u001b[39;00m\n\u001b[1;32m    533\u001b[0m \n\u001b[1;32m    534\u001b[0m \u001b[38;5;124;03m    Args:\u001b[39;00m\n\u001b[0;32m   (...)\u001b[0m\n\u001b[1;32m    542\u001b[0m \u001b[38;5;124;03m        List of Documents most similar to the query.\u001b[39;00m\n\u001b[1;32m    543\u001b[0m \u001b[38;5;124;03m    \"\"\"\u001b[39;00m\n\u001b[0;32m--> 544\u001b[0m     docs_and_scores \u001b[38;5;241m=\u001b[39m \u001b[38;5;28;43mself\u001b[39;49m\u001b[38;5;241;43m.\u001b[39;49m\u001b[43msimilarity_search_with_score\u001b[49m\u001b[43m(\u001b[49m\n\u001b[1;32m    545\u001b[0m \u001b[43m        \u001b[49m\u001b[43mquery\u001b[49m\u001b[43m,\u001b[49m\u001b[43m \u001b[49m\u001b[43mk\u001b[49m\u001b[43m,\u001b[49m\u001b[43m \u001b[49m\u001b[38;5;28;43mfilter\u001b[39;49m\u001b[38;5;241;43m=\u001b[39;49m\u001b[38;5;28;43mfilter\u001b[39;49m\u001b[43m,\u001b[49m\u001b[43m \u001b[49m\u001b[43mfetch_k\u001b[49m\u001b[38;5;241;43m=\u001b[39;49m\u001b[43mfetch_k\u001b[49m\u001b[43m,\u001b[49m\u001b[43m \u001b[49m\u001b[38;5;241;43m*\u001b[39;49m\u001b[38;5;241;43m*\u001b[39;49m\u001b[43mkwargs\u001b[49m\n\u001b[1;32m    546\u001b[0m \u001b[43m    \u001b[49m\u001b[43m)\u001b[49m\n\u001b[1;32m    547\u001b[0m     \u001b[38;5;28;01mreturn\u001b[39;00m [doc \u001b[38;5;28;01mfor\u001b[39;00m doc, _ \u001b[38;5;129;01min\u001b[39;00m docs_and_scores]\n",
      "File \u001b[0;32m~/llm-pdfs/.venv/lib/python3.11/site-packages/langchain_community/vectorstores/faiss.py:417\u001b[0m, in \u001b[0;36mFAISS.similarity_search_with_score\u001b[0;34m(self, query, k, filter, fetch_k, **kwargs)\u001b[0m\n\u001b[1;32m    400\u001b[0m \u001b[38;5;250m\u001b[39m\u001b[38;5;124;03m\"\"\"Return docs most similar to query.\u001b[39;00m\n\u001b[1;32m    401\u001b[0m \n\u001b[1;32m    402\u001b[0m \u001b[38;5;124;03mArgs:\u001b[39;00m\n\u001b[0;32m   (...)\u001b[0m\n\u001b[1;32m    414\u001b[0m \u001b[38;5;124;03m    L2 distance in float. Lower score represents more similarity.\u001b[39;00m\n\u001b[1;32m    415\u001b[0m \u001b[38;5;124;03m\"\"\"\u001b[39;00m\n\u001b[1;32m    416\u001b[0m embedding \u001b[38;5;241m=\u001b[39m \u001b[38;5;28mself\u001b[39m\u001b[38;5;241m.\u001b[39m_embed_query(query)\n\u001b[0;32m--> 417\u001b[0m docs \u001b[38;5;241m=\u001b[39m \u001b[38;5;28;43mself\u001b[39;49m\u001b[38;5;241;43m.\u001b[39;49m\u001b[43msimilarity_search_with_score_by_vector\u001b[49m\u001b[43m(\u001b[49m\n\u001b[1;32m    418\u001b[0m \u001b[43m    \u001b[49m\u001b[43membedding\u001b[49m\u001b[43m,\u001b[49m\n\u001b[1;32m    419\u001b[0m \u001b[43m    \u001b[49m\u001b[43mk\u001b[49m\u001b[43m,\u001b[49m\n\u001b[1;32m    420\u001b[0m \u001b[43m    \u001b[49m\u001b[38;5;28;43mfilter\u001b[39;49m\u001b[38;5;241;43m=\u001b[39;49m\u001b[38;5;28;43mfilter\u001b[39;49m\u001b[43m,\u001b[49m\n\u001b[1;32m    421\u001b[0m \u001b[43m    \u001b[49m\u001b[43mfetch_k\u001b[49m\u001b[38;5;241;43m=\u001b[39;49m\u001b[43mfetch_k\u001b[49m\u001b[43m,\u001b[49m\n\u001b[1;32m    422\u001b[0m \u001b[43m    \u001b[49m\u001b[38;5;241;43m*\u001b[39;49m\u001b[38;5;241;43m*\u001b[39;49m\u001b[43mkwargs\u001b[49m\u001b[43m,\u001b[49m\n\u001b[1;32m    423\u001b[0m \u001b[43m\u001b[49m\u001b[43m)\u001b[49m\n\u001b[1;32m    424\u001b[0m \u001b[38;5;28;01mreturn\u001b[39;00m docs\n",
      "File \u001b[0;32m~/llm-pdfs/.venv/lib/python3.11/site-packages/langchain_community/vectorstores/faiss.py:302\u001b[0m, in \u001b[0;36mFAISS.similarity_search_with_score_by_vector\u001b[0;34m(self, embedding, k, filter, fetch_k, **kwargs)\u001b[0m\n\u001b[1;32m    300\u001b[0m \u001b[38;5;28;01mif\u001b[39;00m \u001b[38;5;28mself\u001b[39m\u001b[38;5;241m.\u001b[39m_normalize_L2:\n\u001b[1;32m    301\u001b[0m     faiss\u001b[38;5;241m.\u001b[39mnormalize_L2(vector)\n\u001b[0;32m--> 302\u001b[0m scores, indices \u001b[38;5;241m=\u001b[39m \u001b[38;5;28;43mself\u001b[39;49m\u001b[38;5;241;43m.\u001b[39;49m\u001b[43mindex\u001b[49m\u001b[38;5;241;43m.\u001b[39;49m\u001b[43msearch\u001b[49m\u001b[43m(\u001b[49m\u001b[43mvector\u001b[49m\u001b[43m,\u001b[49m\u001b[43m \u001b[49m\u001b[43mk\u001b[49m\u001b[43m \u001b[49m\u001b[38;5;28;43;01mif\u001b[39;49;00m\u001b[43m \u001b[49m\u001b[38;5;28;43mfilter\u001b[39;49m\u001b[43m \u001b[49m\u001b[38;5;129;43;01mis\u001b[39;49;00m\u001b[43m \u001b[49m\u001b[38;5;28;43;01mNone\u001b[39;49;00m\u001b[43m \u001b[49m\u001b[38;5;28;43;01melse\u001b[39;49;00m\u001b[43m \u001b[49m\u001b[43mfetch_k\u001b[49m\u001b[43m)\u001b[49m\n\u001b[1;32m    303\u001b[0m docs \u001b[38;5;241m=\u001b[39m []\n\u001b[1;32m    305\u001b[0m \u001b[38;5;28;01mif\u001b[39;00m \u001b[38;5;28mfilter\u001b[39m \u001b[38;5;129;01mis\u001b[39;00m \u001b[38;5;129;01mnot\u001b[39;00m \u001b[38;5;28;01mNone\u001b[39;00m:\n",
      "File \u001b[0;32m~/llm-pdfs/.venv/lib/python3.11/site-packages/faiss/class_wrappers.py:329\u001b[0m, in \u001b[0;36mhandle_Index.<locals>.replacement_search\u001b[0;34m(self, x, k, params, D, I)\u001b[0m\n\u001b[1;32m    327\u001b[0m n, d \u001b[38;5;241m=\u001b[39m x\u001b[38;5;241m.\u001b[39mshape\n\u001b[1;32m    328\u001b[0m x \u001b[38;5;241m=\u001b[39m np\u001b[38;5;241m.\u001b[39mascontiguousarray(x, dtype\u001b[38;5;241m=\u001b[39m\u001b[38;5;124m'\u001b[39m\u001b[38;5;124mfloat32\u001b[39m\u001b[38;5;124m'\u001b[39m)\n\u001b[0;32m--> 329\u001b[0m \u001b[38;5;28;01massert\u001b[39;00m d \u001b[38;5;241m==\u001b[39m \u001b[38;5;28mself\u001b[39m\u001b[38;5;241m.\u001b[39md\n\u001b[1;32m    331\u001b[0m \u001b[38;5;28;01massert\u001b[39;00m k \u001b[38;5;241m>\u001b[39m \u001b[38;5;241m0\u001b[39m\n\u001b[1;32m    333\u001b[0m \u001b[38;5;28;01mif\u001b[39;00m D \u001b[38;5;129;01mis\u001b[39;00m \u001b[38;5;28;01mNone\u001b[39;00m:\n",
      "\u001b[0;31mAssertionError\u001b[0m: "
     ]
    }
   ],
   "source": [
    "query = \"令和3年の福島県でのハスモンヨトウ発生状況は？\"\n",
    "qa.invoke(query)"
   ]
  },
  {
   "cell_type": "code",
   "execution_count": null,
   "metadata": {},
   "outputs": [],
   "source": []
  }
 ],
 "metadata": {
  "kernelspec": {
   "display_name": "Python 3",
   "language": "python",
   "name": "python3"
  },
  "language_info": {
   "codemirror_mode": {
    "name": "ipython",
    "version": 3
   },
   "file_extension": ".py",
   "mimetype": "text/x-python",
   "name": "python",
   "nbconvert_exporter": "python",
   "pygments_lexer": "ipython3",
   "version": "3.11.6"
  }
 },
 "nbformat": 4,
 "nbformat_minor": 2
}
