{
 "cells": [
  {
   "cell_type": "code",
   "execution_count": 2,
   "metadata": {},
   "outputs": [],
   "source": [
    "from langchain_community.document_loaders import PyPDFLoader\n",
    "import os\n",
    "import getpass\n",
    "from langchain_community.vectorstores import FAISS\n",
    "from langchain_openai import OpenAIEmbeddings\n",
    "from langchain.embeddings import CacheBackedEmbeddings\n",
    "from langchain.storage import LocalFileStore\n",
    "from langchain.embeddings import HuggingFaceEmbeddings\n",
    "from langchain.chains import RetrievalQA\n",
    "from langchain_openai import OpenAI\n",
    "openai_api_key = os.getenv('OPENAI_API_KEY', 'YourAPIKeyIfNotSet')\n",
    "\n",
    "os.environ['OPENAI_API_KEY'] = getpass.getpass('OpenAI API Key:')\n",
    "\n",
    "loader = PyPDFLoader(\"~/Dropbox/LLM-agriculture/PDFs/433111_Fukushima.pdf\")\n",
    "pages = loader.load_and_split()\n"
   ]
  },
  {
   "cell_type": "code",
   "execution_count": 5,
   "metadata": {},
   "outputs": [],
   "source": [
    "\n",
    "\n",
    "def make_embedder(model_type, save_path):\n",
    "    if model_type == \"sup-simcse-ja-base\":\n",
    "        model_name = \"cl-nagoya/sup-simcse-ja-base\"\n",
    "        model_kwargs = {'device': 'cpu'}\n",
    "        encode_kwargs = {'normalize_embeddings': False}\n",
    "        embedding_model = HuggingFaceEmbeddings(\n",
    "            model_name=model_name,\n",
    "            model_kwargs=model_kwargs,\n",
    "            encode_kwargs=encode_kwargs\n",
    "            )\n",
    "    else:  # Assuming OpenAIEmbeddings\n",
    "        embedding_model = OpenAIEmbeddings()\n",
    "    \n",
    "    fs = LocalFileStore(save_path)\n",
    "    cached_embedder = CacheBackedEmbeddings.from_bytes_store(embedding_model, fs)\n",
    "    return cached_embedder\n",
    "\n",
    "def save_embeddings_and_ids_with_faiss(all_documents, cached_embedder, save_path):\n",
    "    db = FAISS.from_documents(all_documents, cached_embedder)\n",
    "    db.save_local(save_path)\n",
    "\n",
    "model_type = \"sup-simcse-ja-base\"  # \"sup-simcse-ja-base\" or \"OpenAIEmbeddings\"\n",
    "cached_embedder_dir = \"data/cached_embeddings\"\n",
    "save_path = os.path.join(cached_embedder_dir, model_type)\n",
    "\n",
    "cached_embedder = make_embedder(model_type, save_path)\n",
    "save_embeddings_and_ids_with_faiss(pages, cached_embedder, save_path)"
   ]
  },
  {
   "cell_type": "code",
   "execution_count": 6,
   "metadata": {},
   "outputs": [],
   "source": [
    "model_type = \"sup-simcse-ja-base\"  # \"sup-simcse-ja-base\" or \"OpenAIEmbeddings\"\n",
    "cached_embedder_dir = \"data/cached_embeddings\"\n",
    "save_path = os.path.join(cached_embedder_dir, model_type)\n",
    "\n",
    "model_name = \"cl-nagoya/sup-simcse-ja-base\"\n",
    "model_kwargs = {'device': 'cpu'}\n",
    "encode_kwargs = {'normalize_embeddings': False}\n",
    "embedding_model = HuggingFaceEmbeddings(\n",
    "            model_name=model_name,\n",
    "            model_kwargs=model_kwargs,\n",
    "            encode_kwargs=encode_kwargs\n",
    "            )\n",
    "fs = LocalFileStore(save_path)\n",
    "cached_embedder = CacheBackedEmbeddings.from_bytes_store(embedding_model, fs)\n",
    "db = FAISS.load_local(save_path, cached_embedder)"
   ]
  },
  {
   "cell_type": "code",
   "execution_count": 7,
   "metadata": {},
   "outputs": [],
   "source": [
    "\n",
    "llm = OpenAI(temperature=0, openai_api_key=openai_api_key)\n",
    "\n",
    "\n",
    "qa = RetrievalQA.from_chain_type(llm=llm, chain_type=\"stuff\", retriever=db.as_retriever())"
   ]
  },
  {
   "cell_type": "code",
   "execution_count": 9,
   "metadata": {},
   "outputs": [
    {
     "data": {
      "text/plain": [
       "{'query': 'うどんこ病の福島県での発生状況は？',\n",
       " 'result': ' 県内全域で普通にみられ、イチゴ品種により感受性に差があり、「さちのか」や「ふくはる香」は感染しやすい。'}"
      ]
     },
     "execution_count": 9,
     "metadata": {},
     "output_type": "execute_result"
    }
   ],
   "source": [
    "query = \"うどんこ病の福島県での発生状況は？\"\n",
    "qa.invoke(query)"
   ]
  },
  {
   "cell_type": "code",
   "execution_count": 10,
   "metadata": {},
   "outputs": [
    {
     "data": {
      "text/plain": [
       "{'query': '前年から鉢を使い回すときの注意点は？',\n",
       " 'result': ' 前作使用した育苗土壌やポット等の資材は、消毒するか一斉に更新することが重要です。また、土壌消毒を行い次作に病原菌を持ち越さないようにすることも大切です。'}"
      ]
     },
     "execution_count": 10,
     "metadata": {},
     "output_type": "execute_result"
    }
   ],
   "source": [
    "query = \"前年から鉢を使い回すときの注意点は？\"\n",
    "qa.invoke(query)"
   ]
  },
  {
   "cell_type": "code",
   "execution_count": 11,
   "metadata": {},
   "outputs": [
    {
     "data": {
      "text/plain": [
       "{'query': '炭疽病の発生時期はいつ？',\n",
       " 'result': ' 高温時期に発生しやすい。気温28℃の比較的高温条件で多発する。定植後秋口にすぐ症状が見られるものは、潜在感染した親株から採苗～育苗期に感染したと考えられる。'}"
      ]
     },
     "execution_count": 11,
     "metadata": {},
     "output_type": "execute_result"
    }
   ],
   "source": [
    "query = \"炭疽病の発生時期はいつ？\"\n",
    "qa.invoke(query)"
   ]
  },
  {
   "cell_type": "code",
   "execution_count": null,
   "metadata": {},
   "outputs": [],
   "source": []
  }
 ],
 "metadata": {
  "kernelspec": {
   "display_name": "Python 3",
   "language": "python",
   "name": "python3"
  },
  "language_info": {
   "codemirror_mode": {
    "name": "ipython",
    "version": 3
   },
   "file_extension": ".py",
   "mimetype": "text/x-python",
   "name": "python",
   "nbconvert_exporter": "python",
   "pygments_lexer": "ipython3",
   "version": "3.9.16"
  }
 },
 "nbformat": 4,
 "nbformat_minor": 2
}
